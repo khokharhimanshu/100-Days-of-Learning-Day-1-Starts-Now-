{
 "cells": [
  {
   "cell_type": "code",
   "execution_count": 2,
   "id": "ac7c08f1-5a83-42d4-9339-51a4d66df360",
   "metadata": {},
   "outputs": [],
   "source": [
    "a = 3"
   ]
  },
  {
   "cell_type": "code",
   "execution_count": 3,
   "id": "9516425b-062f-4488-af97-0e7b17534c30",
   "metadata": {},
   "outputs": [
    {
     "name": "stdout",
     "output_type": "stream",
     "text": [
      "3\n"
     ]
    }
   ],
   "source": [
    "print(a)"
   ]
  },
  {
   "cell_type": "code",
   "execution_count": 6,
   "id": "74c5bf54-a3d3-4f68-bc4b-2e59c1d744eb",
   "metadata": {},
   "outputs": [],
   "source": [
    "a,b,c,d,e = 5,7.6,5+6j,\"himanshu\",False"
   ]
  },
  {
   "cell_type": "code",
   "execution_count": 7,
   "id": "aab12b1c-d5c1-498c-871e-6b7dbdcdb3ae",
   "metadata": {},
   "outputs": [
    {
     "data": {
      "text/plain": [
       "int"
      ]
     },
     "execution_count": 7,
     "metadata": {},
     "output_type": "execute_result"
    }
   ],
   "source": [
    "type(a)"
   ]
  },
  {
   "cell_type": "code",
   "execution_count": 8,
   "id": "be3ae4da-5e72-482a-8129-df3a379aae73",
   "metadata": {},
   "outputs": [
    {
     "data": {
      "text/plain": [
       "float"
      ]
     },
     "execution_count": 8,
     "metadata": {},
     "output_type": "execute_result"
    }
   ],
   "source": [
    "type(b)"
   ]
  },
  {
   "cell_type": "code",
   "execution_count": 9,
   "id": "f9682723-73a4-47df-bee0-db86a286a39c",
   "metadata": {},
   "outputs": [
    {
     "data": {
      "text/plain": [
       "complex"
      ]
     },
     "execution_count": 9,
     "metadata": {},
     "output_type": "execute_result"
    }
   ],
   "source": [
    "type(c)"
   ]
  },
  {
   "cell_type": "code",
   "execution_count": 10,
   "id": "7e1fe4e7-1af0-47f7-9b1c-b68603a33e3f",
   "metadata": {},
   "outputs": [
    {
     "data": {
      "text/plain": [
       "str"
      ]
     },
     "execution_count": 10,
     "metadata": {},
     "output_type": "execute_result"
    }
   ],
   "source": [
    "type(d)"
   ]
  },
  {
   "cell_type": "code",
   "execution_count": 11,
   "id": "25b56ce3-b475-4375-a81d-d88b14bb16f3",
   "metadata": {},
   "outputs": [
    {
     "data": {
      "text/plain": [
       "bool"
      ]
     },
     "execution_count": 11,
     "metadata": {},
     "output_type": "execute_result"
    }
   ],
   "source": [
    "type(e)"
   ]
  },
  {
   "cell_type": "code",
   "execution_count": 12,
   "id": "31f7b7a2-6a39-47c1-8175-cc1a92263886",
   "metadata": {},
   "outputs": [
    {
     "data": {
      "text/plain": [
       "['__abs__',\n",
       " '__add__',\n",
       " '__and__',\n",
       " '__bool__',\n",
       " '__ceil__',\n",
       " '__class__',\n",
       " '__delattr__',\n",
       " '__dir__',\n",
       " '__divmod__',\n",
       " '__doc__',\n",
       " '__eq__',\n",
       " '__float__',\n",
       " '__floor__',\n",
       " '__floordiv__',\n",
       " '__format__',\n",
       " '__ge__',\n",
       " '__getattribute__',\n",
       " '__getnewargs__',\n",
       " '__gt__',\n",
       " '__hash__',\n",
       " '__index__',\n",
       " '__init__',\n",
       " '__init_subclass__',\n",
       " '__int__',\n",
       " '__invert__',\n",
       " '__le__',\n",
       " '__lshift__',\n",
       " '__lt__',\n",
       " '__mod__',\n",
       " '__mul__',\n",
       " '__ne__',\n",
       " '__neg__',\n",
       " '__new__',\n",
       " '__or__',\n",
       " '__pos__',\n",
       " '__pow__',\n",
       " '__radd__',\n",
       " '__rand__',\n",
       " '__rdivmod__',\n",
       " '__reduce__',\n",
       " '__reduce_ex__',\n",
       " '__repr__',\n",
       " '__rfloordiv__',\n",
       " '__rlshift__',\n",
       " '__rmod__',\n",
       " '__rmul__',\n",
       " '__ror__',\n",
       " '__round__',\n",
       " '__rpow__',\n",
       " '__rrshift__',\n",
       " '__rshift__',\n",
       " '__rsub__',\n",
       " '__rtruediv__',\n",
       " '__rxor__',\n",
       " '__setattr__',\n",
       " '__sizeof__',\n",
       " '__str__',\n",
       " '__sub__',\n",
       " '__subclasshook__',\n",
       " '__truediv__',\n",
       " '__trunc__',\n",
       " '__xor__',\n",
       " 'as_integer_ratio',\n",
       " 'bit_length',\n",
       " 'conjugate',\n",
       " 'denominator',\n",
       " 'from_bytes',\n",
       " 'imag',\n",
       " 'numerator',\n",
       " 'real',\n",
       " 'to_bytes']"
      ]
     },
     "execution_count": 12,
     "metadata": {},
     "output_type": "execute_result"
    }
   ],
   "source": [
    "dir(a)"
   ]
  },
  {
   "cell_type": "code",
   "execution_count": 14,
   "id": "7334b9b3-b91b-42f4-ba60-278784757fde",
   "metadata": {},
   "outputs": [
    {
     "name": "stdout",
     "output_type": "stream",
     "text": [
      "39\n"
     ]
    }
   ],
   "source": [
    "b = 34\n",
    "print(a+b)"
   ]
  },
  {
   "cell_type": "code",
   "execution_count": 16,
   "id": "bcd63d96-8427-48b3-bac6-a87cda8716df",
   "metadata": {},
   "outputs": [
    {
     "data": {
      "text/plain": [
       "5.0"
      ]
     },
     "execution_count": 16,
     "metadata": {},
     "output_type": "execute_result"
    }
   ],
   "source": [
    "c.real"
   ]
  },
  {
   "cell_type": "code",
   "execution_count": 25,
   "id": "16a92a22-b5ca-4504-bfa4-eda49d1cc8e8",
   "metadata": {},
   "outputs": [
    {
     "data": {
      "text/plain": [
       "['__abs__',\n",
       " '__add__',\n",
       " '__bool__',\n",
       " '__class__',\n",
       " '__delattr__',\n",
       " '__dir__',\n",
       " '__divmod__',\n",
       " '__doc__',\n",
       " '__eq__',\n",
       " '__float__',\n",
       " '__floordiv__',\n",
       " '__format__',\n",
       " '__ge__',\n",
       " '__getattribute__',\n",
       " '__getnewargs__',\n",
       " '__gt__',\n",
       " '__hash__',\n",
       " '__init__',\n",
       " '__init_subclass__',\n",
       " '__int__',\n",
       " '__le__',\n",
       " '__lt__',\n",
       " '__mod__',\n",
       " '__mul__',\n",
       " '__ne__',\n",
       " '__neg__',\n",
       " '__new__',\n",
       " '__pos__',\n",
       " '__pow__',\n",
       " '__radd__',\n",
       " '__rdivmod__',\n",
       " '__reduce__',\n",
       " '__reduce_ex__',\n",
       " '__repr__',\n",
       " '__rfloordiv__',\n",
       " '__rmod__',\n",
       " '__rmul__',\n",
       " '__rpow__',\n",
       " '__rsub__',\n",
       " '__rtruediv__',\n",
       " '__setattr__',\n",
       " '__sizeof__',\n",
       " '__str__',\n",
       " '__sub__',\n",
       " '__subclasshook__',\n",
       " '__truediv__',\n",
       " 'conjugate',\n",
       " 'imag',\n",
       " 'real']"
      ]
     },
     "execution_count": 25,
     "metadata": {},
     "output_type": "execute_result"
    }
   ],
   "source": [
    "dir(c)"
   ]
  },
  {
   "cell_type": "code",
   "execution_count": 19,
   "id": "d28612ac-de2e-4be0-bf1a-a094cd0f1338",
   "metadata": {},
   "outputs": [
    {
     "data": {
      "text/plain": [
       "6.0"
      ]
     },
     "execution_count": 19,
     "metadata": {},
     "output_type": "execute_result"
    }
   ],
   "source": [
    "c.imag"
   ]
  },
  {
   "cell_type": "code",
   "execution_count": 20,
   "id": "e0126001-c794-4e4a-bd56-9e1b873ae20e",
   "metadata": {},
   "outputs": [
    {
     "data": {
      "text/plain": [
       "2"
      ]
     },
     "execution_count": 20,
     "metadata": {},
     "output_type": "execute_result"
    }
   ],
   "source": [
    "True + True"
   ]
  },
  {
   "cell_type": "code",
   "execution_count": 21,
   "id": "f7b348b6-1635-47ac-af82-a193905e23f1",
   "metadata": {},
   "outputs": [
    {
     "data": {
      "text/plain": [
       "1"
      ]
     },
     "execution_count": 21,
     "metadata": {},
     "output_type": "execute_result"
    }
   ],
   "source": [
    "True -False"
   ]
  },
  {
   "cell_type": "code",
   "execution_count": 22,
   "id": "c1931e6f-3642-4e6f-a603-683d64046403",
   "metadata": {},
   "outputs": [
    {
     "data": {
      "text/plain": [
       "0"
      ]
     },
     "execution_count": 22,
     "metadata": {},
     "output_type": "execute_result"
    }
   ],
   "source": [
    "False - False"
   ]
  },
  {
   "cell_type": "code",
   "execution_count": 23,
   "id": "cf07d469-3420-4ee5-b490-98ff9f34dec3",
   "metadata": {},
   "outputs": [
    {
     "data": {
      "text/plain": [
       "6"
      ]
     },
     "execution_count": 23,
     "metadata": {},
     "output_type": "execute_result"
    }
   ],
   "source": [
    "True + a"
   ]
  },
  {
   "cell_type": "code",
   "execution_count": 24,
   "id": "566c1a0f-e18c-4068-84ca-e7131231d074",
   "metadata": {},
   "outputs": [
    {
     "data": {
      "text/plain": [
       "6.0"
      ]
     },
     "execution_count": 24,
     "metadata": {},
     "output_type": "execute_result"
    }
   ],
   "source": [
    "True + c.real"
   ]
  },
  {
   "cell_type": "code",
   "execution_count": 26,
   "id": "480afc1e-ee10-4c53-bc01-c0b75f396c3c",
   "metadata": {},
   "outputs": [],
   "source": [
    "a = \"Himanshu\""
   ]
  },
  {
   "cell_type": "code",
   "execution_count": 27,
   "id": "09f42d7c-9e6a-4a6b-8c93-697bc8bd4d20",
   "metadata": {},
   "outputs": [
    {
     "data": {
      "text/plain": [
       "str"
      ]
     },
     "execution_count": 27,
     "metadata": {},
     "output_type": "execute_result"
    }
   ],
   "source": [
    "type(a)"
   ]
  },
  {
   "cell_type": "code",
   "execution_count": 28,
   "id": "cc1daf0b-9ad6-45e2-b204-9f230ded7282",
   "metadata": {},
   "outputs": [
    {
     "data": {
      "text/plain": [
       "'H'"
      ]
     },
     "execution_count": 28,
     "metadata": {},
     "output_type": "execute_result"
    }
   ],
   "source": [
    "a[0]"
   ]
  },
  {
   "cell_type": "code",
   "execution_count": 29,
   "id": "950101d4-1aa7-4db3-969b-abd31b827256",
   "metadata": {},
   "outputs": [
    {
     "data": {
      "text/plain": [
       "'i'"
      ]
     },
     "execution_count": 29,
     "metadata": {},
     "output_type": "execute_result"
    }
   ],
   "source": [
    "a[1]"
   ]
  },
  {
   "cell_type": "code",
   "execution_count": 30,
   "id": "7b83c6e4-6585-4bfc-b3fb-083feac263d6",
   "metadata": {},
   "outputs": [
    {
     "data": {
      "text/plain": [
       "'s'"
      ]
     },
     "execution_count": 30,
     "metadata": {},
     "output_type": "execute_result"
    }
   ],
   "source": [
    "a[5]"
   ]
  },
  {
   "cell_type": "code",
   "execution_count": 32,
   "id": "1d52fc1f-3e98-45a8-8357-0dc735e5c24e",
   "metadata": {},
   "outputs": [
    {
     "data": {
      "text/plain": [
       "'Himan'"
      ]
     },
     "execution_count": 32,
     "metadata": {},
     "output_type": "execute_result"
    }
   ],
   "source": [
    "a[0:5]"
   ]
  },
  {
   "cell_type": "code",
   "execution_count": 33,
   "id": "775d556b-47b4-42d6-9401-d58b70d7b412",
   "metadata": {},
   "outputs": [
    {
     "data": {
      "text/plain": [
       "'Himansh'"
      ]
     },
     "execution_count": 33,
     "metadata": {},
     "output_type": "execute_result"
    }
   ],
   "source": [
    "a[0:7]"
   ]
  },
  {
   "cell_type": "code",
   "execution_count": 34,
   "id": "2b48ad24-bd8c-4dfd-93cd-af1d65ca5b15",
   "metadata": {},
   "outputs": [
    {
     "data": {
      "text/plain": [
       "'Himanshu'"
      ]
     },
     "execution_count": 34,
     "metadata": {},
     "output_type": "execute_result"
    }
   ],
   "source": [
    "a[0:10]"
   ]
  },
  {
   "cell_type": "code",
   "execution_count": 35,
   "id": "1faa5a9b-080e-4875-b89d-ce164afb77a0",
   "metadata": {},
   "outputs": [
    {
     "data": {
      "text/plain": [
       "'Himanshu'"
      ]
     },
     "execution_count": 35,
     "metadata": {},
     "output_type": "execute_result"
    }
   ],
   "source": [
    "a[0:]"
   ]
  },
  {
   "cell_type": "code",
   "execution_count": 36,
   "id": "e4e27e65-ca00-45e9-97e1-b02c5764d6b6",
   "metadata": {},
   "outputs": [],
   "source": [
    "b = \"my name is Himanshu khokhar\""
   ]
  },
  {
   "cell_type": "code",
   "execution_count": 37,
   "id": "39920a7d-264d-41ea-807d-ca0413f98b07",
   "metadata": {},
   "outputs": [
    {
     "data": {
      "text/plain": [
       "str"
      ]
     },
     "execution_count": 37,
     "metadata": {},
     "output_type": "execute_result"
    }
   ],
   "source": [
    "type(b)"
   ]
  },
  {
   "cell_type": "code",
   "execution_count": 38,
   "id": "cbd8dd16-dee7-411f-ac8c-2c6e6f7d64fe",
   "metadata": {},
   "outputs": [
    {
     "data": {
      "text/plain": [
       "'m'"
      ]
     },
     "execution_count": 38,
     "metadata": {},
     "output_type": "execute_result"
    }
   ],
   "source": [
    "b[0]"
   ]
  },
  {
   "cell_type": "code",
   "execution_count": 39,
   "id": "e919c396-04bf-4d79-bf79-b7cbfe178238",
   "metadata": {},
   "outputs": [
    {
     "data": {
      "text/plain": [
       "'my name is Himanshu khokhar'"
      ]
     },
     "execution_count": 39,
     "metadata": {},
     "output_type": "execute_result"
    }
   ],
   "source": [
    "b[0:]"
   ]
  },
  {
   "cell_type": "code",
   "execution_count": 40,
   "id": "00c03d84-7eb1-40c0-b158-6dfb376b4080",
   "metadata": {},
   "outputs": [
    {
     "ename": "IndexError",
     "evalue": "string index out of range",
     "output_type": "error",
     "traceback": [
      "\u001b[1;31m---------------------------------------------------------------------------\u001b[0m",
      "\u001b[1;31mIndexError\u001b[0m                                Traceback (most recent call last)",
      "Cell \u001b[1;32mIn[40], line 1\u001b[0m\n\u001b[1;32m----> 1\u001b[0m \u001b[43mb\u001b[49m\u001b[43m[\u001b[49m\u001b[38;5;241;43m300\u001b[39;49m\u001b[43m]\u001b[49m\n",
      "\u001b[1;31mIndexError\u001b[0m: string index out of range"
     ]
    }
   ],
   "source": [
    "b[300]"
   ]
  },
  {
   "cell_type": "code",
   "execution_count": 41,
   "id": "c1bf54d6-f6fb-4172-b56f-0d05f1a3d093",
   "metadata": {},
   "outputs": [
    {
     "data": {
      "text/plain": [
       "'my name is Himanshu khokhar'"
      ]
     },
     "execution_count": 41,
     "metadata": {},
     "output_type": "execute_result"
    }
   ],
   "source": [
    "b[0:300]"
   ]
  },
  {
   "cell_type": "code",
   "execution_count": 42,
   "id": "74c7f80f-0651-49ff-b698-4e3bce0bcb68",
   "metadata": {},
   "outputs": [
    {
     "data": {
      "text/plain": [
       "''"
      ]
     },
     "execution_count": 42,
     "metadata": {},
     "output_type": "execute_result"
    }
   ],
   "source": [
    "b[-1:-4]"
   ]
  },
  {
   "cell_type": "code",
   "execution_count": 43,
   "id": "dadaba46-ef42-4297-b0ff-98460fcb38fc",
   "metadata": {},
   "outputs": [
    {
     "data": {
      "text/plain": [
       "'my name is Himanshu khokhar'"
      ]
     },
     "execution_count": 43,
     "metadata": {},
     "output_type": "execute_result"
    }
   ],
   "source": [
    "b[0:100:1]"
   ]
  },
  {
   "cell_type": "code",
   "execution_count": 44,
   "id": "8b4575fb-bd9b-49c4-9dc5-5b29ff530160",
   "metadata": {},
   "outputs": [
    {
     "data": {
      "text/plain": [
       "'m aei iasukohr'"
      ]
     },
     "execution_count": 44,
     "metadata": {},
     "output_type": "execute_result"
    }
   ],
   "source": [
    "b[0:100:2]"
   ]
  },
  {
   "cell_type": "code",
   "execution_count": 45,
   "id": "81052f39-59eb-4035-96c2-9c108462b6c8",
   "metadata": {},
   "outputs": [
    {
     "data": {
      "text/plain": [
       "'maiiskh'"
      ]
     },
     "execution_count": 45,
     "metadata": {},
     "output_type": "execute_result"
    }
   ],
   "source": [
    "b[0:100:4]"
   ]
  },
  {
   "cell_type": "code",
   "execution_count": 46,
   "id": "4996f1f3-9796-474a-a00a-e6f1d34ee394",
   "metadata": {},
   "outputs": [
    {
     "data": {
      "text/plain": [
       "''"
      ]
     },
     "execution_count": 46,
     "metadata": {},
     "output_type": "execute_result"
    }
   ],
   "source": [
    "b[0:100:-2]"
   ]
  },
  {
   "cell_type": "code",
   "execution_count": 48,
   "id": "6b3f46b3-e93f-448b-8e29-26f952ebd678",
   "metadata": {},
   "outputs": [
    {
     "data": {
      "text/plain": [
       "''"
      ]
     },
     "execution_count": 48,
     "metadata": {},
     "output_type": "execute_result"
    }
   ],
   "source": [
    "b[0:10:-4]"
   ]
  },
  {
   "cell_type": "code",
   "execution_count": 49,
   "id": "3f2d9130-8833-459f-8bcf-277ebd259789",
   "metadata": {},
   "outputs": [
    {
     "data": {
      "text/plain": [
       "'my name is Himanshu khokhar'"
      ]
     },
     "execution_count": 49,
     "metadata": {},
     "output_type": "execute_result"
    }
   ],
   "source": [
    "b[::]"
   ]
  },
  {
   "cell_type": "code",
   "execution_count": 50,
   "id": "bb669760-0635-44ce-9826-3e591f66b3c2",
   "metadata": {},
   "outputs": [
    {
     "data": {
      "text/plain": [
       "'m'"
      ]
     },
     "execution_count": 50,
     "metadata": {},
     "output_type": "execute_result"
    }
   ],
   "source": [
    "b[0:-100:-1]"
   ]
  },
  {
   "cell_type": "code",
   "execution_count": 51,
   "id": "812cf668-5815-43dc-859b-ca9c3bf0fb25",
   "metadata": {},
   "outputs": [
    {
     "data": {
      "text/plain": [
       "'rhokusai iea m'"
      ]
     },
     "execution_count": 51,
     "metadata": {},
     "output_type": "execute_result"
    }
   ],
   "source": [
    "b[-1:-100:-2]"
   ]
  },
  {
   "cell_type": "code",
   "execution_count": 52,
   "id": "dfb2e7aa-0443-4303-b1a4-d6c4b8786c41",
   "metadata": {},
   "outputs": [
    {
     "data": {
      "text/plain": [
       "'rahkohk uhsnamiH si eman ym'"
      ]
     },
     "execution_count": 52,
     "metadata": {},
     "output_type": "execute_result"
    }
   ],
   "source": [
    "b[-1:-100:-1]"
   ]
  },
  {
   "cell_type": "code",
   "execution_count": 53,
   "id": "63a10bba-3ed8-4abe-a609-98f7ba07adcb",
   "metadata": {},
   "outputs": [
    {
     "data": {
      "text/plain": [
       "'rahkohk uhsnamiH si eman ym'"
      ]
     },
     "execution_count": 53,
     "metadata": {},
     "output_type": "execute_result"
    }
   ],
   "source": [
    "b[::-1]"
   ]
  },
  {
   "cell_type": "code",
   "execution_count": 54,
   "id": "d45f8c52-fa7b-41b2-952c-c739e37c65ef",
   "metadata": {},
   "outputs": [
    {
     "data": {
      "text/plain": [
       "'my name '"
      ]
     },
     "execution_count": 54,
     "metadata": {},
     "output_type": "execute_result"
    }
   ],
   "source": [
    "b[:8]"
   ]
  },
  {
   "cell_type": "code",
   "execution_count": 56,
   "id": "16b28622-6adf-4d23-9d78-7f1427f8fb21",
   "metadata": {},
   "outputs": [],
   "source": [
    "c = \"Hi! there i met u yestrday\""
   ]
  },
  {
   "cell_type": "code",
   "execution_count": 57,
   "id": "b4bbb4a5-7fdb-4181-bdcd-4128186b77bf",
   "metadata": {},
   "outputs": [
    {
     "data": {
      "text/plain": [
       "str"
      ]
     },
     "execution_count": 57,
     "metadata": {},
     "output_type": "execute_result"
    }
   ],
   "source": [
    "type(c)"
   ]
  },
  {
   "cell_type": "code",
   "execution_count": 58,
   "id": "c85c720d-7995-483e-a9fd-e3408d342a09",
   "metadata": {},
   "outputs": [
    {
     "data": {
      "text/plain": [
       "'H'"
      ]
     },
     "execution_count": 58,
     "metadata": {},
     "output_type": "execute_result"
    }
   ],
   "source": [
    "c[0]"
   ]
  },
  {
   "cell_type": "code",
   "execution_count": 59,
   "id": "15a8ab3c-0496-4593-ab21-699f9df823c6",
   "metadata": {},
   "outputs": [
    {
     "data": {
      "text/plain": [
       "'Hi! there i met u yestrday'"
      ]
     },
     "execution_count": 59,
     "metadata": {},
     "output_type": "execute_result"
    }
   ],
   "source": [
    "c[0:1000]"
   ]
  },
  {
   "cell_type": "code",
   "execution_count": 60,
   "id": "bf023065-a332-4cc8-8fb8-5dd62fbb6cfb",
   "metadata": {},
   "outputs": [
    {
     "data": {
      "text/plain": [
       "''"
      ]
     },
     "execution_count": 60,
     "metadata": {},
     "output_type": "execute_result"
    }
   ],
   "source": [
    "c[0:100:-1]"
   ]
  },
  {
   "cell_type": "code",
   "execution_count": 61,
   "id": "fd955d9b-363c-418c-b187-dbdb2577420d",
   "metadata": {},
   "outputs": [
    {
     "data": {
      "text/plain": [
       "'H'"
      ]
     },
     "execution_count": 61,
     "metadata": {},
     "output_type": "execute_result"
    }
   ],
   "source": [
    "c[0:-100:-1]"
   ]
  },
  {
   "cell_type": "code",
   "execution_count": 62,
   "id": "d16cde69-3f1b-488c-b086-191cb46ed798",
   "metadata": {},
   "outputs": [
    {
     "data": {
      "text/plain": [
       "'yreueirti'"
      ]
     },
     "execution_count": 62,
     "metadata": {},
     "output_type": "execute_result"
    }
   ],
   "source": [
    "c[-1:-190:-3]"
   ]
  },
  {
   "cell_type": "code",
   "execution_count": 64,
   "id": "9a334dbc-386c-4cb7-89fd-e9f045c79179",
   "metadata": {},
   "outputs": [
    {
     "data": {
      "text/plain": [
       "'yadrtsey u tem i ereht !iH'"
      ]
     },
     "execution_count": 64,
     "metadata": {},
     "output_type": "execute_result"
    }
   ],
   "source": [
    "c[::-1]"
   ]
  },
  {
   "cell_type": "code",
   "execution_count": 66,
   "id": "fe80c65d-e13b-4361-b095-6cc0026ca6cd",
   "metadata": {},
   "outputs": [
    {
     "data": {
      "text/plain": [
       "'yadrtsey u tem i ereht !iH'"
      ]
     },
     "execution_count": 66,
     "metadata": {},
     "output_type": "execute_result"
    }
   ],
   "source": [
    "c[-1::-1]"
   ]
  },
  {
   "cell_type": "code",
   "execution_count": 68,
   "id": "5217b79a-a7b2-457a-a619-58be2dbbf932",
   "metadata": {},
   "outputs": [
    {
     "data": {
      "text/plain": [
       "''"
      ]
     },
     "execution_count": 68,
     "metadata": {},
     "output_type": "execute_result"
    }
   ],
   "source": [
    "c[-3:3]"
   ]
  },
  {
   "cell_type": "code",
   "execution_count": 69,
   "id": "f1c9a79c-e3fe-45bc-96fc-f2ef04a3dfcb",
   "metadata": {},
   "outputs": [
    {
     "data": {
      "text/plain": [
       "'drtsey u tem i ereht'"
      ]
     },
     "execution_count": 69,
     "metadata": {},
     "output_type": "execute_result"
    }
   ],
   "source": [
    "c[-3:3:-1]"
   ]
  },
  {
   "cell_type": "code",
   "execution_count": 70,
   "id": "02969210-7292-4414-b708-9321fa530be1",
   "metadata": {},
   "outputs": [
    {
     "data": {
      "text/plain": [
       "''"
      ]
     },
     "execution_count": 70,
     "metadata": {},
     "output_type": "execute_result"
    }
   ],
   "source": [
    "c[-3:3:1]"
   ]
  },
  {
   "cell_type": "code",
   "execution_count": 71,
   "id": "7d1fcdb1-8e15-4a37-bcd4-fd5211faccc8",
   "metadata": {},
   "outputs": [
    {
     "data": {
      "text/plain": [
       "'himanshuhimanshuhimanshu'"
      ]
     },
     "execution_count": 71,
     "metadata": {},
     "output_type": "execute_result"
    }
   ],
   "source": [
    "\"himanshu\"*3"
   ]
  },
  {
   "cell_type": "code",
   "execution_count": 72,
   "id": "03526b9f-848a-4c08-9846-4065c65e98cd",
   "metadata": {},
   "outputs": [
    {
     "data": {
      "text/plain": [
       "'Himanshu'"
      ]
     },
     "execution_count": 72,
     "metadata": {},
     "output_type": "execute_result"
    }
   ],
   "source": [
    "\"Him\"+\"anshu\""
   ]
  },
  {
   "cell_type": "code",
   "execution_count": 73,
   "id": "902cc65e-c263-4860-a2fe-4f7936ec238d",
   "metadata": {},
   "outputs": [
    {
     "data": {
      "text/plain": [
       "26"
      ]
     },
     "execution_count": 73,
     "metadata": {},
     "output_type": "execute_result"
    }
   ],
   "source": [
    "len(c)"
   ]
  },
  {
   "cell_type": "code",
   "execution_count": 74,
   "id": "6485a49b-e437-46ef-a1ad-7971b4c9b518",
   "metadata": {},
   "outputs": [
    {
     "data": {
      "text/plain": [
       "8"
      ]
     },
     "execution_count": 74,
     "metadata": {},
     "output_type": "execute_result"
    }
   ],
   "source": [
    "len(a)"
   ]
  },
  {
   "cell_type": "code",
   "execution_count": 77,
   "id": "6776c667-a3fd-4804-8aa3-0c587036d25e",
   "metadata": {},
   "outputs": [
    {
     "data": {
      "text/plain": [
       "<function str.find>"
      ]
     },
     "execution_count": 77,
     "metadata": {},
     "output_type": "execute_result"
    }
   ],
   "source": [
    "c.find"
   ]
  },
  {
   "cell_type": "code",
   "execution_count": 79,
   "id": "4910f8c4-969e-4d6c-9a44-f37dc5b68985",
   "metadata": {},
   "outputs": [
    {
     "data": {
      "text/plain": [
       "1"
      ]
     },
     "execution_count": 79,
     "metadata": {},
     "output_type": "execute_result"
    }
   ],
   "source": [
    "c.find('i')"
   ]
  },
  {
   "cell_type": "code",
   "execution_count": 80,
   "id": "5753e778-374e-44d4-abd5-ae5d1c5d608d",
   "metadata": {},
   "outputs": [
    {
     "name": "stdout",
     "output_type": "stream",
     "text": [
      "Hi! there i met u yestrday\n"
     ]
    }
   ],
   "source": [
    "print(c)"
   ]
  },
  {
   "cell_type": "code",
   "execution_count": 81,
   "id": "4a77ecc8-f821-4dc0-8196-93105b06f05d",
   "metadata": {},
   "outputs": [
    {
     "data": {
      "text/plain": [
       "2"
      ]
     },
     "execution_count": 81,
     "metadata": {},
     "output_type": "execute_result"
    }
   ],
   "source": [
    "c.find('!')"
   ]
  },
  {
   "cell_type": "code",
   "execution_count": 83,
   "id": "116afda0-d4ad-4bbe-af96-993dafeeaf71",
   "metadata": {},
   "outputs": [
    {
     "data": {
      "text/plain": [
       "4"
      ]
     },
     "execution_count": 83,
     "metadata": {},
     "output_type": "execute_result"
    }
   ],
   "source": [
    "c.count(\"e\")"
   ]
  },
  {
   "cell_type": "code",
   "execution_count": 84,
   "id": "e593ab83-dc5e-42a3-9a79-231be0d6eafa",
   "metadata": {},
   "outputs": [
    {
     "data": {
      "text/plain": [
       "3"
      ]
     },
     "execution_count": 84,
     "metadata": {},
     "output_type": "execute_result"
    }
   ],
   "source": [
    "c.count(\"t\")"
   ]
  },
  {
   "cell_type": "code",
   "execution_count": 86,
   "id": "fdcf442f-d6a5-45a3-a41e-098c1de55987",
   "metadata": {},
   "outputs": [
    {
     "data": {
      "text/plain": [
       "list"
      ]
     },
     "execution_count": 86,
     "metadata": {},
     "output_type": "execute_result"
    }
   ],
   "source": [
    "type(c.split())"
   ]
  },
  {
   "cell_type": "code",
   "execution_count": 87,
   "id": "f246af07-5e08-483e-ad33-c9ed5f3f13e0",
   "metadata": {},
   "outputs": [],
   "source": [
    "l = c.split()"
   ]
  },
  {
   "cell_type": "code",
   "execution_count": 89,
   "id": "500eae1f-7a09-4778-a9eb-34db4af60f66",
   "metadata": {},
   "outputs": [
    {
     "data": {
      "text/plain": [
       "'Hi!'"
      ]
     },
     "execution_count": 89,
     "metadata": {},
     "output_type": "execute_result"
    }
   ],
   "source": [
    "l[0]"
   ]
  },
  {
   "cell_type": "code",
   "execution_count": 90,
   "id": "4924abf5-e331-4a01-9372-1ebe53023347",
   "metadata": {},
   "outputs": [
    {
     "data": {
      "text/plain": [
       "'i'"
      ]
     },
     "execution_count": 90,
     "metadata": {},
     "output_type": "execute_result"
    }
   ],
   "source": [
    "l[2]"
   ]
  },
  {
   "cell_type": "code",
   "execution_count": 91,
   "id": "36fcfa1b-b116-40e8-bc4d-1aec6403c27b",
   "metadata": {},
   "outputs": [
    {
     "data": {
      "text/plain": [
       "['Hi!', 'there', 'i', 'met', 'u', 'yestrday']"
      ]
     },
     "execution_count": 91,
     "metadata": {},
     "output_type": "execute_result"
    }
   ],
   "source": [
    "c.split()"
   ]
  },
  {
   "cell_type": "code",
   "execution_count": 92,
   "id": "768edead-414f-4bcd-aa9a-1fb2e51278ea",
   "metadata": {},
   "outputs": [
    {
     "data": {
      "text/plain": [
       "'u'"
      ]
     },
     "execution_count": 92,
     "metadata": {},
     "output_type": "execute_result"
    }
   ],
   "source": [
    "l[4]"
   ]
  },
  {
   "cell_type": "code",
   "execution_count": 93,
   "id": "dfe7d8ec-1290-4dcb-b4a4-826b46d10dae",
   "metadata": {},
   "outputs": [
    {
     "data": {
      "text/plain": [
       "'yestrday'"
      ]
     },
     "execution_count": 93,
     "metadata": {},
     "output_type": "execute_result"
    }
   ],
   "source": [
    "l[5]"
   ]
  },
  {
   "cell_type": "code",
   "execution_count": 94,
   "id": "4a2a6105-b7a1-49c4-8578-c21ab64be2f5",
   "metadata": {},
   "outputs": [
    {
     "data": {
      "text/plain": [
       "'Hi! there i met u yestrday'"
      ]
     },
     "execution_count": 94,
     "metadata": {},
     "output_type": "execute_result"
    }
   ],
   "source": [
    "c"
   ]
  },
  {
   "cell_type": "code",
   "execution_count": 95,
   "id": "264f88a6-bd9e-4068-bf28-e5d188ed61a0",
   "metadata": {},
   "outputs": [
    {
     "data": {
      "text/plain": [
       "'Hi!'"
      ]
     },
     "execution_count": 95,
     "metadata": {},
     "output_type": "execute_result"
    }
   ],
   "source": [
    "c[0:3]"
   ]
  },
  {
   "cell_type": "code",
   "execution_count": 97,
   "id": "5540f30e-0aeb-45a0-8b70-33fe1bbc3951",
   "metadata": {},
   "outputs": [
    {
     "data": {
      "text/plain": [
       "['Hi! th', 'r', ' i m', 't u y', 'strday']"
      ]
     },
     "execution_count": 97,
     "metadata": {},
     "output_type": "execute_result"
    }
   ],
   "source": [
    "c.split('e')"
   ]
  },
  {
   "cell_type": "code",
   "execution_count": 98,
   "id": "70e1892a-136f-4295-9712-4d9d5dacfce6",
   "metadata": {},
   "outputs": [
    {
     "data": {
      "text/plain": [
       "'HI! THERE I MET U YESTRDAY'"
      ]
     },
     "execution_count": 98,
     "metadata": {},
     "output_type": "execute_result"
    }
   ],
   "source": [
    "c.upper()"
   ]
  },
  {
   "cell_type": "code",
   "execution_count": 99,
   "id": "70b64fbf-dd61-4b46-9701-cd8334605575",
   "metadata": {},
   "outputs": [
    {
     "data": {
      "text/plain": [
       "'hI! THERE I MET U YESTRDAY'"
      ]
     },
     "execution_count": 99,
     "metadata": {},
     "output_type": "execute_result"
    }
   ],
   "source": [
    "c.swapcase()"
   ]
  },
  {
   "cell_type": "code",
   "execution_count": 100,
   "id": "37af96d9-4bb8-46cd-9760-652f4875643b",
   "metadata": {},
   "outputs": [
    {
     "data": {
      "text/plain": [
       "'Hi! There I Met U Yestrday'"
      ]
     },
     "execution_count": 100,
     "metadata": {},
     "output_type": "execute_result"
    }
   ],
   "source": [
    "c.title()"
   ]
  },
  {
   "cell_type": "code",
   "execution_count": 101,
   "id": "6386bc46-56a8-4f9d-82d3-6715e9612242",
   "metadata": {},
   "outputs": [
    {
     "data": {
      "text/plain": [
       "'Hi! there i met u yestrday'"
      ]
     },
     "execution_count": 101,
     "metadata": {},
     "output_type": "execute_result"
    }
   ],
   "source": [
    "c.capitalize()"
   ]
  },
  {
   "cell_type": "code",
   "execution_count": 102,
   "id": "6482bb67-ae3b-4b89-98d2-adc456104a48",
   "metadata": {},
   "outputs": [],
   "source": [
    "a = \"Himanshu\"\n",
    "b = \"khokhar\""
   ]
  },
  {
   "cell_type": "code",
   "execution_count": 104,
   "id": "5d40e359-7954-4a27-9b2c-a8345c450781",
   "metadata": {},
   "outputs": [
    {
     "data": {
      "text/plain": [
       "'HHimanshuiHimanshu!Himanshu HimanshutHimanshuhHimanshueHimanshurHimanshueHimanshu HimanshuiHimanshu HimanshumHimanshueHimanshutHimanshu HimanshuuHimanshu HimanshuyHimanshueHimanshusHimanshutHimanshurHimanshudHimanshuaHimanshuy'"
      ]
     },
     "execution_count": 104,
     "metadata": {},
     "output_type": "execute_result"
    }
   ],
   "source": [
    "a.join(c)"
   ]
  },
  {
   "cell_type": "code",
   "execution_count": 105,
   "id": "405ee4f9-8a23-4d02-9d98-79389a21c7ca",
   "metadata": {},
   "outputs": [
    {
     "name": "stdout",
     "output_type": "stream",
     "text": [
      "u\n",
      "h\n",
      "s\n",
      "n\n",
      "a\n",
      "m\n",
      "i\n",
      "H\n"
     ]
    }
   ],
   "source": [
    "for i in reversed(\"Himanshu\"):\n",
    "    print(i)"
   ]
  },
  {
   "cell_type": "code",
   "execution_count": 106,
   "id": "db2a63b3-722d-4cd9-973b-5402fdc46911",
   "metadata": {},
   "outputs": [
    {
     "data": {
      "text/plain": [
       "'uhsnamiH'"
      ]
     },
     "execution_count": 106,
     "metadata": {},
     "output_type": "execute_result"
    }
   ],
   "source": [
    "a[::-1]"
   ]
  },
  {
   "cell_type": "code",
   "execution_count": 107,
   "id": "9fbbc2d3-20be-4c5a-be4e-10bfcf3f84d5",
   "metadata": {},
   "outputs": [
    {
     "data": {
      "text/plain": [
       "'Himanshu'"
      ]
     },
     "execution_count": 107,
     "metadata": {},
     "output_type": "execute_result"
    }
   ],
   "source": [
    "a.strip()"
   ]
  },
  {
   "cell_type": "code",
   "execution_count": 108,
   "id": "b1fae411-0e7f-4546-a7fb-e263580b577b",
   "metadata": {},
   "outputs": [
    {
     "data": {
      "text/plain": [
       "'Himanshu'"
      ]
     },
     "execution_count": 108,
     "metadata": {},
     "output_type": "execute_result"
    }
   ],
   "source": [
    "a.rstrip()"
   ]
  },
  {
   "cell_type": "code",
   "execution_count": 110,
   "id": "3d29dd4d-c4f4-40a8-9d00-eca04bbcecc1",
   "metadata": {},
   "outputs": [
    {
     "data": {
      "text/plain": [
       "'Hamanshu'"
      ]
     },
     "execution_count": 110,
     "metadata": {},
     "output_type": "execute_result"
    }
   ],
   "source": [
    "a.replace(\"i\",\"a\")"
   ]
  },
  {
   "cell_type": "code",
   "execution_count": 111,
   "id": "02cb73d2-2eab-4fa6-b070-eb3dd7ae7117",
   "metadata": {},
   "outputs": [
    {
     "data": {
      "text/plain": [
       "'Himanshu        khokhar'"
      ]
     },
     "execution_count": 111,
     "metadata": {},
     "output_type": "execute_result"
    }
   ],
   "source": [
    "\"Himanshu\\tkhokhar\".expandtabs()"
   ]
  },
  {
   "cell_type": "code",
   "execution_count": 112,
   "id": "7d63049a-8846-4223-88c6-3b094a2c956b",
   "metadata": {},
   "outputs": [
    {
     "data": {
      "text/plain": [
       "'****************Himanshu****************'"
      ]
     },
     "execution_count": 112,
     "metadata": {},
     "output_type": "execute_result"
    }
   ],
   "source": [
    "a.center(40,\"*\")"
   ]
  },
  {
   "cell_type": "code",
   "execution_count": 114,
   "id": "6b58e0c9-f356-40a4-9ba6-c33b9270aa23",
   "metadata": {},
   "outputs": [
    {
     "data": {
      "text/plain": [
       "'india are the best in the world'"
      ]
     },
     "execution_count": 114,
     "metadata": {},
     "output_type": "execute_result"
    }
   ],
   "source": [
    "b = \"      india are the best in the world\"\n",
    "b.strip()"
   ]
  },
  {
   "cell_type": "code",
   "execution_count": 115,
   "id": "972efc63-63d7-4b7f-8fe3-6a35aae6057a",
   "metadata": {},
   "outputs": [
    {
     "data": {
      "text/plain": [
       "'Himanshu'"
      ]
     },
     "execution_count": 115,
     "metadata": {},
     "output_type": "execute_result"
    }
   ],
   "source": [
    "a"
   ]
  },
  {
   "cell_type": "code",
   "execution_count": 116,
   "id": "6cd2b579-80ae-4668-8721-4aeb2aefeef6",
   "metadata": {},
   "outputs": [
    {
     "data": {
      "text/plain": [
       "False"
      ]
     },
     "execution_count": 116,
     "metadata": {},
     "output_type": "execute_result"
    }
   ],
   "source": [
    "a.isupper()"
   ]
  },
  {
   "cell_type": "code",
   "execution_count": 117,
   "id": "ebe41e51-253f-4284-b0c4-4a5fae71604d",
   "metadata": {},
   "outputs": [
    {
     "data": {
      "text/plain": [
       "False"
      ]
     },
     "execution_count": 117,
     "metadata": {},
     "output_type": "execute_result"
    }
   ],
   "source": [
    "a.islower()"
   ]
  },
  {
   "cell_type": "code",
   "execution_count": 118,
   "id": "c2c48a54-0de6-446c-a479-318bf03c13fe",
   "metadata": {},
   "outputs": [
    {
     "data": {
      "text/plain": [
       "False"
      ]
     },
     "execution_count": 118,
     "metadata": {},
     "output_type": "execute_result"
    }
   ],
   "source": [
    "b.isspace()"
   ]
  },
  {
   "cell_type": "code",
   "execution_count": 119,
   "id": "a03f9d61-e2e0-4a6c-9e3c-af05f75d6e98",
   "metadata": {},
   "outputs": [],
   "source": [
    "d = \"    \""
   ]
  },
  {
   "cell_type": "code",
   "execution_count": 120,
   "id": "5f6ea0da-c565-4373-afdf-501045c1f0bd",
   "metadata": {},
   "outputs": [
    {
     "data": {
      "text/plain": [
       "True"
      ]
     },
     "execution_count": 120,
     "metadata": {},
     "output_type": "execute_result"
    }
   ],
   "source": [
    "d.isspace()"
   ]
  },
  {
   "cell_type": "code",
   "execution_count": 121,
   "id": "52caf736-1e6f-44ad-acc5-c8ec76964ecb",
   "metadata": {},
   "outputs": [
    {
     "data": {
      "text/plain": [
       "True"
      ]
     },
     "execution_count": 121,
     "metadata": {},
     "output_type": "execute_result"
    }
   ],
   "source": [
    "a.endswith(\"u\")"
   ]
  },
  {
   "cell_type": "code",
   "execution_count": 122,
   "id": "87247661-8e7d-4cd3-87fb-d898664fc576",
   "metadata": {},
   "outputs": [
    {
     "data": {
      "text/plain": [
       "False"
      ]
     },
     "execution_count": 122,
     "metadata": {},
     "output_type": "execute_result"
    }
   ],
   "source": [
    "a.endswith(\"c\")"
   ]
  },
  {
   "cell_type": "code",
   "execution_count": 123,
   "id": "1a17e951-2df1-4cbd-a585-f82a362a45f5",
   "metadata": {},
   "outputs": [
    {
     "data": {
      "text/plain": [
       "False"
      ]
     },
     "execution_count": 123,
     "metadata": {},
     "output_type": "execute_result"
    }
   ],
   "source": [
    "a.startswith(\"h\")"
   ]
  },
  {
   "cell_type": "code",
   "execution_count": 124,
   "id": "b3b9a25d-d97d-433f-918e-5af8dd4170c5",
   "metadata": {},
   "outputs": [
    {
     "data": {
      "text/plain": [
       "True"
      ]
     },
     "execution_count": 124,
     "metadata": {},
     "output_type": "execute_result"
    }
   ],
   "source": [
    "a.startswith(\"H\")"
   ]
  },
  {
   "cell_type": "code",
   "execution_count": 125,
   "id": "e2270967-9054-4843-8600-b35d7c7401c3",
   "metadata": {},
   "outputs": [],
   "source": [
    "l = [\"Himanshu\",\"khokhar\", 123 , 9.4 , 4+5j ]"
   ]
  },
  {
   "cell_type": "code",
   "execution_count": 126,
   "id": "ea72f85f-21c6-4521-a2c1-bae27c7181bb",
   "metadata": {},
   "outputs": [
    {
     "data": {
      "text/plain": [
       "list"
      ]
     },
     "execution_count": 126,
     "metadata": {},
     "output_type": "execute_result"
    }
   ],
   "source": [
    "type(l)"
   ]
  },
  {
   "cell_type": "code",
   "execution_count": 127,
   "id": "faacaa29-7317-4ce0-8b75-3d294585e296",
   "metadata": {},
   "outputs": [
    {
     "data": {
      "text/plain": [
       "'khokhar'"
      ]
     },
     "execution_count": 127,
     "metadata": {},
     "output_type": "execute_result"
    }
   ],
   "source": [
    "l[1]"
   ]
  },
  {
   "cell_type": "code",
   "execution_count": 128,
   "id": "6fbeff4f-4fcd-4fb4-828a-5f96726677f4",
   "metadata": {},
   "outputs": [
    {
     "data": {
      "text/plain": [
       "(4+5j)"
      ]
     },
     "execution_count": 128,
     "metadata": {},
     "output_type": "execute_result"
    }
   ],
   "source": [
    "l[4]"
   ]
  },
  {
   "cell_type": "code",
   "execution_count": 129,
   "id": "86b64e78-6672-45ed-8433-a784a3189180",
   "metadata": {},
   "outputs": [
    {
     "data": {
      "text/plain": [
       "int"
      ]
     },
     "execution_count": 129,
     "metadata": {},
     "output_type": "execute_result"
    }
   ],
   "source": [
    "type(l[2])"
   ]
  },
  {
   "cell_type": "code",
   "execution_count": 130,
   "id": "759bb2e0-279f-4acb-ae1e-0b03b2d72433",
   "metadata": {},
   "outputs": [
    {
     "data": {
      "text/plain": [
       "str"
      ]
     },
     "execution_count": 130,
     "metadata": {},
     "output_type": "execute_result"
    }
   ],
   "source": [
    "type(l[0])"
   ]
  },
  {
   "cell_type": "code",
   "execution_count": 131,
   "id": "30f06495-090e-48cd-b73c-27e41a65a649",
   "metadata": {},
   "outputs": [
    {
     "data": {
      "text/plain": [
       "complex"
      ]
     },
     "execution_count": 131,
     "metadata": {},
     "output_type": "execute_result"
    }
   ],
   "source": [
    "type(l[4])"
   ]
  },
  {
   "cell_type": "code",
   "execution_count": 132,
   "id": "6ef41655-9b63-4847-b3f6-8bcf5ee2364b",
   "metadata": {},
   "outputs": [
    {
     "data": {
      "text/plain": [
       "[(4+5j), 9.4, 123, 'khokhar', 'Himanshu']"
      ]
     },
     "execution_count": 132,
     "metadata": {},
     "output_type": "execute_result"
    }
   ],
   "source": [
    "l[::-1]"
   ]
  },
  {
   "cell_type": "code",
   "execution_count": 133,
   "id": "3be3b98a-8eef-4484-958c-f162660c5e4c",
   "metadata": {},
   "outputs": [
    {
     "data": {
      "text/plain": [
       "[(4+5j)]"
      ]
     },
     "execution_count": 133,
     "metadata": {},
     "output_type": "execute_result"
    }
   ],
   "source": [
    "l[-1:6]"
   ]
  },
  {
   "cell_type": "code",
   "execution_count": 136,
   "id": "b422a681-d486-4698-a36c-2db0c375135c",
   "metadata": {},
   "outputs": [
    {
     "data": {
      "text/plain": [
       "[(4+5j), 9.4, 123]"
      ]
     },
     "execution_count": 136,
     "metadata": {},
     "output_type": "execute_result"
    }
   ],
   "source": [
    "l[-1:-4:-1]"
   ]
  },
  {
   "cell_type": "code",
   "execution_count": 137,
   "id": "51eea026-da0a-487c-90ff-63705556153a",
   "metadata": {},
   "outputs": [
    {
     "data": {
      "text/plain": [
       "(4+5j)"
      ]
     },
     "execution_count": 137,
     "metadata": {},
     "output_type": "execute_result"
    }
   ],
   "source": [
    "l[4]"
   ]
  },
  {
   "cell_type": "code",
   "execution_count": 139,
   "id": "6a252ef9-8f8e-416b-bceb-67a00269c47e",
   "metadata": {},
   "outputs": [
    {
     "data": {
      "text/plain": [
       "4.0"
      ]
     },
     "execution_count": 139,
     "metadata": {},
     "output_type": "execute_result"
    }
   ],
   "source": [
    "l[4].real"
   ]
  },
  {
   "cell_type": "code",
   "execution_count": 141,
   "id": "cde4286c-f544-4686-8fc3-9c6b61d33198",
   "metadata": {},
   "outputs": [
    {
     "data": {
      "text/plain": [
       "5.0"
      ]
     },
     "execution_count": 141,
     "metadata": {},
     "output_type": "execute_result"
    }
   ],
   "source": [
    "l[4].imag"
   ]
  },
  {
   "cell_type": "code",
   "execution_count": 142,
   "id": "4ede2a5e-ac78-46ef-ba1c-2c14b865f13b",
   "metadata": {},
   "outputs": [],
   "source": [
    "l1 = [\"Himanshu\", 123 , 9.4]\n",
    "l2 = [\"khokhar\", 345 , 5+6j]"
   ]
  },
  {
   "cell_type": "code",
   "execution_count": 143,
   "id": "1f257f0a-7744-4d59-a985-033408b4f28c",
   "metadata": {},
   "outputs": [
    {
     "data": {
      "text/plain": [
       "['Himanshu', 123, 9.4, 'khokhar', 345, (5+6j)]"
      ]
     },
     "execution_count": 143,
     "metadata": {},
     "output_type": "execute_result"
    }
   ],
   "source": [
    "l1+l2"
   ]
  },
  {
   "cell_type": "code",
   "execution_count": 144,
   "id": "31570626-b25f-4bb4-b34a-e3aed1b47162",
   "metadata": {},
   "outputs": [
    {
     "ename": "TypeError",
     "evalue": "can only concatenate list (not \"str\") to list",
     "output_type": "error",
     "traceback": [
      "\u001b[1;31m---------------------------------------------------------------------------\u001b[0m",
      "\u001b[1;31mTypeError\u001b[0m                                 Traceback (most recent call last)",
      "Cell \u001b[1;32mIn[144], line 1\u001b[0m\n\u001b[1;32m----> 1\u001b[0m \u001b[43ml1\u001b[49m\u001b[43m \u001b[49m\u001b[38;5;241;43m+\u001b[39;49m\u001b[43m \u001b[49m\u001b[38;5;124;43m\"\u001b[39;49m\u001b[38;5;124;43mkhokhar\u001b[39;49m\u001b[38;5;124;43m\"\u001b[39;49m\n",
      "\u001b[1;31mTypeError\u001b[0m: can only concatenate list (not \"str\") to list"
     ]
    }
   ],
   "source": [
    "l1 + \"khokhar\""
   ]
  },
  {
   "cell_type": "code",
   "execution_count": 145,
   "id": "49033b4b-febc-4eff-8f9c-e9ad57f6554a",
   "metadata": {},
   "outputs": [
    {
     "data": {
      "text/plain": [
       "['Himanshu', 123, 9.4, 'Himanshu', 123, 9.4]"
      ]
     },
     "execution_count": 145,
     "metadata": {},
     "output_type": "execute_result"
    }
   ],
   "source": [
    "l1*2"
   ]
  },
  {
   "cell_type": "code",
   "execution_count": 146,
   "id": "49c34a1a-580f-4471-8623-e6a6c515b049",
   "metadata": {},
   "outputs": [
    {
     "data": {
      "text/plain": [
       "['khokhar',\n",
       " 345,\n",
       " (5+6j),\n",
       " 'khokhar',\n",
       " 345,\n",
       " (5+6j),\n",
       " 'khokhar',\n",
       " 345,\n",
       " (5+6j),\n",
       " 'khokhar',\n",
       " 345,\n",
       " (5+6j)]"
      ]
     },
     "execution_count": 146,
     "metadata": {},
     "output_type": "execute_result"
    }
   ],
   "source": [
    "l2*4"
   ]
  },
  {
   "cell_type": "code",
   "execution_count": 147,
   "id": "69637e6d-1c79-4252-9922-720c1d94fd58",
   "metadata": {},
   "outputs": [
    {
     "data": {
      "text/plain": [
       "['Himanshu', 123, 9.4]"
      ]
     },
     "execution_count": 147,
     "metadata": {},
     "output_type": "execute_result"
    }
   ],
   "source": [
    "l1"
   ]
  },
  {
   "cell_type": "code",
   "execution_count": 148,
   "id": "01727da7-3316-47f6-b561-f7f2f8f72446",
   "metadata": {},
   "outputs": [
    {
     "name": "stdout",
     "output_type": "stream",
     "text": [
      "['myname', 123, 9.4]\n"
     ]
    }
   ],
   "source": [
    "l1[0] = \"myname\"\n",
    "print(l1)"
   ]
  },
  {
   "cell_type": "code",
   "execution_count": null,
   "id": "18c3bc40-c9a5-45b1-baf9-4c8bbe745b84",
   "metadata": {},
   "outputs": [],
   "source": []
  }
 ],
 "metadata": {
  "kernelspec": {
   "display_name": "Python [conda env:venv]",
   "language": "python",
   "name": "conda-env-venv-py"
  },
  "language_info": {
   "codemirror_mode": {
    "name": "ipython",
    "version": 3
   },
   "file_extension": ".py",
   "mimetype": "text/x-python",
   "name": "python",
   "nbconvert_exporter": "python",
   "pygments_lexer": "ipython3",
   "version": "3.8.18"
  }
 },
 "nbformat": 4,
 "nbformat_minor": 5
}
