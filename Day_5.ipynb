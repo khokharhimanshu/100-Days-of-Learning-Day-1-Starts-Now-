{
 "cells": [
  {
   "cell_type": "markdown",
   "id": "00b19cd3-b3c1-4c8f-8f9f-1afed85c77ce",
   "metadata": {},
   "source": [
    "# Notebook Title: Day 5 – Python Programs Using Loops"
   ]
  },
  {
   "cell_type": "markdown",
   "id": "5e98d112-b918-426e-8958-49b4a2276fe1",
   "metadata": {},
   "source": [
    "## Day 5: Python Programs Using Loops\n",
    "\n",
    "Today I practiced writing complete Python programs using **for loops** and **while loops**. These programs helped me apply the concepts I’ve learned over the last few days in real use-cases like number patterns, sum calculations, and logic-based problems.\n"
   ]
  },
  {
   "cell_type": "markdown",
   "id": "be8a2194-9b86-4e56-b7c1-2f1d74d046ec",
   "metadata": {},
   "source": [
    "1. Print First 10 Natural Numbers Using for Loop"
   ]
  },
  {
   "cell_type": "code",
   "execution_count": 2,
   "id": "fd7a0f6c-faea-47d7-9dcd-4455f9e0f8b9",
   "metadata": {},
   "outputs": [
    {
     "name": "stdout",
     "output_type": "stream",
     "text": [
      "0\n",
      "1\n",
      "2\n",
      "3\n",
      "4\n",
      "5\n",
      "6\n",
      "7\n",
      "8\n",
      "9\n"
     ]
    }
   ],
   "source": [
    "for i in range(0,10):\n",
    "    print(i)"
   ]
  },
  {
   "cell_type": "markdown",
   "id": "193c7991-de63-445e-9e1c-44daa5862b06",
   "metadata": {},
   "source": [
    "2. Print Multiplication Table of a Given Number"
   ]
  },
  {
   "cell_type": "code",
   "execution_count": 3,
   "id": "cf16e30d-f80e-456c-bd88-22e4bafde227",
   "metadata": {},
   "outputs": [
    {
     "name": "stdout",
     "output_type": "stream",
     "text": [
      "5\n",
      "10\n",
      "15\n",
      "20\n",
      "25\n",
      "30\n",
      "35\n",
      "40\n",
      "45\n",
      "50\n"
     ]
    }
   ],
   "source": [
    "num = 5\n",
    "for i in range(1,11):\n",
    "    if i <= 50:\n",
    "        print(i*5)"
   ]
  },
  {
   "cell_type": "markdown",
   "id": "400f3d6b-6ba7-4324-8eb4-f8edb1917f31",
   "metadata": {},
   "source": [
    " 3. Calculate the Sum of Numbers from 1 to n Using While Loop"
   ]
  },
  {
   "cell_type": "code",
   "execution_count": 4,
   "id": "ec78def1-f1fc-47d0-bbf7-cfa63946288b",
   "metadata": {},
   "outputs": [
    {
     "name": "stdout",
     "output_type": "stream",
     "text": [
      "Sum from 1 to 10 is: 55\n"
     ]
    }
   ],
   "source": [
    "n = 10\n",
    "sum = 0\n",
    "i = 1\n",
    "while i <= n:\n",
    "    sum += i\n",
    "    i += 1\n",
    "print(f\"Sum from 1 to {n} is: {sum}\")"
   ]
  },
  {
   "cell_type": "code",
   "execution_count": 5,
   "id": "f96b3264-6afc-41ef-9e36-c5a63aa48a3f",
   "metadata": {},
   "outputs": [
    {
     "data": {
      "text/plain": [
       "27"
      ]
     },
     "execution_count": 5,
     "metadata": {},
     "output_type": "execute_result"
    }
   ],
   "source": [
    "s = \"My name is himanshu khokhar\"\n",
    "len(s)"
   ]
  },
  {
   "cell_type": "code",
   "execution_count": 6,
   "id": "94dd1f9a-4a81-4adb-adf8-cb9733145d7c",
   "metadata": {},
   "outputs": [
    {
     "name": "stdout",
     "output_type": "stream",
     "text": [
      "27\n"
     ]
    }
   ],
   "source": [
    "count = 0 \n",
    "for i in s:\n",
    "    count = count +1            # You can write the code like this count += 1 meaning o fthis code line is same \n",
    "print(count)"
   ]
  },
  {
   "cell_type": "code",
   "execution_count": 7,
   "id": "a93079fb-b45e-4679-91ab-d4d91e16a663",
   "metadata": {},
   "outputs": [
    {
     "data": {
      "text/plain": [
       "'My name is himanshu khokhar'"
      ]
     },
     "execution_count": 7,
     "metadata": {},
     "output_type": "execute_result"
    }
   ],
   "source": [
    "s"
   ]
  },
  {
   "cell_type": "code",
   "execution_count": 8,
   "id": "61db1cbe-1c49-49b6-ad8e-6e78928ef489",
   "metadata": {},
   "outputs": [
    {
     "data": {
      "text/plain": [
       "'rahkohk uhsnamih si eman yM'"
      ]
     },
     "execution_count": 8,
     "metadata": {},
     "output_type": "execute_result"
    }
   ],
   "source": [
    "s[::-1]"
   ]
  },
  {
   "cell_type": "code",
   "execution_count": 9,
   "id": "57b2ba4b-b4f4-465a-b466-96aafdc77244",
   "metadata": {},
   "outputs": [
    {
     "name": "stdout",
     "output_type": "stream",
     "text": [
      "r\n",
      "a\n",
      "h\n",
      "k\n",
      "o\n",
      "h\n",
      "k\n",
      " \n",
      "u\n",
      "h\n",
      "s\n",
      "n\n",
      "a\n",
      "m\n",
      "i\n",
      "h\n",
      " \n",
      "s\n",
      "i\n",
      " \n",
      "e\n",
      "m\n",
      "a\n",
      "n\n",
      " \n",
      "y\n",
      "M\n"
     ]
    }
   ],
   "source": [
    "for i in range(len(s)-1,-1,-1):\n",
    "    print(s[i])"
   ]
  },
  {
   "cell_type": "code",
   "execution_count": 10,
   "id": "639afb8f-aa03-4463-8e7e-9eb70236c5a6",
   "metadata": {},
   "outputs": [
    {
     "name": "stdout",
     "output_type": "stream",
     "text": [
      "rahkohk uhsnamih si eman yM"
     ]
    }
   ],
   "source": [
    "i = len(s)-1\n",
    "while (i>=0):\n",
    "    print(s[i],end=\"\")\n",
    "    i = i-1"
   ]
  },
  {
   "cell_type": "code",
   "execution_count": 17,
   "id": "ca3153cc-16eb-40b6-af52-54eb44a4b388",
   "metadata": {},
   "outputs": [
    {
     "name": "stdout",
     "output_type": "stream",
     "text": [
      "This is not vowel,  H\n",
      "This is vowel,  i\n",
      "This is not vowel,  m\n",
      "This is vowel,  a\n",
      "This is not vowel,  n\n",
      "This is not vowel,  s\n",
      "This is not vowel,  n\n",
      "This is vowel,  u\n"
     ]
    }
   ],
   "source": [
    "n = \"Himansnu\"              # to check this statement is a vowel or not \n",
    "v = \"AaEeIiOoUu\"\n",
    "for i in n:\n",
    "    if  i in v:\n",
    "        print(\"This is vowel, \",i)\n",
    "    else:\n",
    "        print(\"This is not vowel, \",i)"
   ]
  },
  {
   "cell_type": "code",
   "execution_count": 18,
   "id": "04c018cd-91a0-4db4-8d27-3c644ffc9303",
   "metadata": {},
   "outputs": [
    {
     "data": {
      "text/plain": [
       "True"
      ]
     },
     "execution_count": 18,
     "metadata": {},
     "output_type": "execute_result"
    }
   ],
   "source": [
    "\"Hi\" in \"Himanshu\""
   ]
  },
  {
   "cell_type": "code",
   "execution_count": 19,
   "id": "1a06035c-d51b-4236-84e0-9ee0554a2383",
   "metadata": {},
   "outputs": [
    {
     "data": {
      "text/plain": [
       "'eye'"
      ]
     },
     "execution_count": 19,
     "metadata": {},
     "output_type": "execute_result"
    }
   ],
   "source": [
    "\"tnent\"\n",
    "\"malayalam\"\n",
    "\"eye\""
   ]
  },
  {
   "cell_type": "code",
   "execution_count": 20,
   "id": "d97647f5-8939-4b2f-9006-c6d8f9a9c90a",
   "metadata": {},
   "outputs": [
    {
     "name": "stdout",
     "output_type": "stream",
     "text": [
      "palindrom\n"
     ]
    }
   ],
   "source": [
    "s = \"malayalam\"\n",
    "if s == s[::-1]:\n",
    "    print(\"palindrom\")\n",
    "else:\n",
    "    print(\"Not palindrom\")"
   ]
  },
  {
   "cell_type": "code",
   "execution_count": 21,
   "id": "b216784c-dddf-4ad8-a131-45d82c4e7bfe",
   "metadata": {},
   "outputs": [
    {
     "name": "stdin",
     "output_type": "stream",
     "text": [
      " tenet\n"
     ]
    },
    {
     "name": "stdout",
     "output_type": "stream",
     "text": [
      "palindrom\n"
     ]
    }
   ],
   "source": [
    "s = str(input())\n",
    "if s == s[::-1]:\n",
    "    print(\"palindrom\")\n",
    "else:\n",
    "    print(\"Not palindrom\")"
   ]
  },
  {
   "cell_type": "code",
   "execution_count": 22,
   "id": "a3b91c28-ec53-4c88-870e-140986d43f4a",
   "metadata": {},
   "outputs": [
    {
     "name": "stdin",
     "output_type": "stream",
     "text": [
      " Himanshu\n"
     ]
    },
    {
     "name": "stdout",
     "output_type": "stream",
     "text": [
      "Not palindrom\n"
     ]
    }
   ],
   "source": [
    "s = str(input())\n",
    "if s == s[::-1]:\n",
    "    print(\"palindrom\")\n",
    "else:\n",
    "    print(\"Not palindrom\")"
   ]
  },
  {
   "cell_type": "code",
   "execution_count": 23,
   "id": "9a73c33d-1bfa-48ee-8440-bca6233f8889",
   "metadata": {},
   "outputs": [
    {
     "name": "stdin",
     "output_type": "stream",
     "text": [
      " tenet\n"
     ]
    },
    {
     "name": "stdout",
     "output_type": "stream",
     "text": [
      "tenet is palindrom\n"
     ]
    }
   ],
   "source": [
    "word = str(input())\n",
    "for i in range(len(word)):\n",
    "    if word[i] == word[len(word)-1-i]:\n",
    "        print(word , \"is palindrom\")\n",
    "        break\n",
    "    else:\n",
    "        print(word , \"not palindrom\")"
   ]
  },
  {
   "cell_type": "code",
   "execution_count": 25,
   "id": "276e6143-377e-43ce-a796-f12020f24bc2",
   "metadata": {},
   "outputs": [
    {
     "name": "stdin",
     "output_type": "stream",
     "text": [
      " Himanshu\n"
     ]
    },
    {
     "name": "stdout",
     "output_type": "stream",
     "text": [
      "Himanshu not palindrom\n"
     ]
    }
   ],
   "source": [
    "word = str(input())\n",
    "for i in range(len(word)):\n",
    "    if word[i] == word[len(word)-1-i]:\n",
    "        print(word , \"is palindrom\")\n",
    "        break\n",
    "    else:\n",
    "        print(word , \"not palindrom\")\n",
    "        break"
   ]
  },
  {
   "cell_type": "code",
   "execution_count": 29,
   "id": "0acdb9cc-a341-48d8-b893-299a679f37df",
   "metadata": {},
   "outputs": [
    {
     "name": "stdin",
     "output_type": "stream",
     "text": [
      " khokhar\n"
     ]
    },
    {
     "name": "stdout",
     "output_type": "stream",
     "text": [
      "Not a palindrom\n"
     ]
    }
   ],
   "source": [
    "s = str(input())\n",
    "f = \"\"\n",
    "i = len(s)-1\n",
    "while (i>=0):\n",
    "    f = f+s[i]\n",
    "    i = i-1\n",
    "if (s==f):\n",
    "    print(\"palindrom\")\n",
    "else:\n",
    "    print(\"Not a palindrom\")"
   ]
  },
  {
   "cell_type": "markdown",
   "id": "f9cdfdef-022f-466a-83e0-d370077dd295",
   "metadata": {},
   "source": [
    "4. Print Even Numbers Between 1 to 20"
   ]
  },
  {
   "cell_type": "code",
   "execution_count": 52,
   "id": "3ac708ed-a816-4b45-a9b5-6bf5c74b5e9d",
   "metadata": {},
   "outputs": [
    {
     "name": "stdout",
     "output_type": "stream",
     "text": [
      "Even numbers from 1 to 20:\n",
      "2 4 6 8 10 12 14 16 18 20 "
     ]
    }
   ],
   "source": [
    "print(\"Even numbers from 1 to 20:\")\n",
    "for i in range(1, 21):\n",
    "    if i % 2 == 0:\n",
    "        print(i, end=\" \")"
   ]
  },
  {
   "cell_type": "code",
   "execution_count": 32,
   "id": "66ffac15-b318-4d67-a9cd-745c889d0a1d",
   "metadata": {},
   "outputs": [],
   "source": [
    "d = { \"India\" : \"IN\",\n",
    "     \"China\" : \"CH\",\n",
    "     \"Pakistan\" : \"Chor\",\n",
    "     \"United state\" : \"US\"}"
   ]
  },
  {
   "cell_type": "code",
   "execution_count": 33,
   "id": "ea7bc3c1-dcf7-45e1-8d40-1cd7ed4bae77",
   "metadata": {},
   "outputs": [
    {
     "data": {
      "text/plain": [
       "dict"
      ]
     },
     "execution_count": 33,
     "metadata": {},
     "output_type": "execute_result"
    }
   ],
   "source": [
    "type(d)"
   ]
  },
  {
   "cell_type": "code",
   "execution_count": 40,
   "id": "4d751384-2de0-42a4-928f-6991ab41c6bb",
   "metadata": {},
   "outputs": [
    {
     "data": {
      "text/plain": [
       "True"
      ]
     },
     "execution_count": 40,
     "metadata": {},
     "output_type": "execute_result"
    }
   ],
   "source": [
    "\"India\" in d"
   ]
  },
  {
   "cell_type": "markdown",
   "id": "d4e2420f-fcd5-44a9-ad04-d37bfe8eb376",
   "metadata": {},
   "source": [
    "d = {\n",
    "    \"India\": \"IN\",\n",
    "    \"China\": \"CH\",\n",
    "    \"Pakistan\": \"Chor\",\n",
    "    \"United state\": \"US\"\n",
    "}\n",
    "\n",
    "for key in d:\n",
    "    if len(key) >= 5:\n",
    "        print(f\"{key} : {d[key]}\")"
   ]
  },
  {
   "cell_type": "markdown",
   "id": "7459820f-1691-40c2-9102-62554435121f",
   "metadata": {},
   "source": [
    "5. Reverse a Number Using While Loop"
   ]
  },
  {
   "cell_type": "code",
   "execution_count": 53,
   "id": "9240c35f-a026-429e-a8a3-5828a186d490",
   "metadata": {},
   "outputs": [
    {
     "name": "stdout",
     "output_type": "stream",
     "text": [
      "Reversed number: 4321\n"
     ]
    }
   ],
   "source": [
    "num = 1234\n",
    "rev = 0\n",
    "while num > 0:\n",
    "    digit = num % 10\n",
    "    rev = rev * 10 + digit\n",
    "    num //= 10\n",
    "print(\"Reversed number:\", rev)"
   ]
  },
  {
   "cell_type": "code",
   "execution_count": 46,
   "id": "beb40394-d275-461f-a143-2b3963526ebb",
   "metadata": {},
   "outputs": [
    {
     "name": "stdout",
     "output_type": "stream",
     "text": [
      "key with > 5 ['Pakistan', 'United state']\n",
      "key with <5 ['India', 'China']\n"
     ]
    }
   ],
   "source": [
    "greator_than_5 = []\n",
    "lesser_than_5 = []\n",
    "for key in d:\n",
    "    if len(key)>5:\n",
    "        greator_than_5.append(key)\n",
    "    elif len(key)<=5:\n",
    "        lesser_than_5.append(key)\n",
    "\n",
    "print(\"key with > 5\",greator_than_5)\n",
    "print(\"key with <5\",lesser_than_5)"
   ]
  },
  {
   "cell_type": "code",
   "execution_count": 51,
   "id": "c1d13e86-f394-4075-857a-32f7bf0e5d89",
   "metadata": {},
   "outputs": [
    {
     "name": "stdout",
     "output_type": "stream",
     "text": [
      "54\n",
      "90\n"
     ]
    }
   ],
   "source": [
    "d_1 = {\"ineuron\" : {\n",
    "                     \"a\" : 10,\n",
    "                     \"b\" : 21,\n",
    "                     \"c\" : 54},\n",
    "       \"course\" : {\n",
    "                    \"d\" : 23,\n",
    "                    \"e\" : 56,\n",
    "                    \"f\" : 90}\n",
    "      }\n",
    "lst_1 = []\n",
    "lst_2 = []\n",
    "for i in d_1[\"ineuron\"].values():\n",
    "    lst_1.append(i)\n",
    "    lst_1.sort()\n",
    "print(lst_1[-1])\n",
    "for i in d_1[\"course\"].values():\n",
    "    lst_2.append(i)\n",
    "    lst_2.sort()\n",
    "print(lst_2[-1])"
   ]
  },
  {
   "cell_type": "markdown",
   "id": "d0b8e1a4-4f13-4a2d-b40d-da092dd0fcd0",
   "metadata": {},
   "source": [
    "6. Factorial of a Number Using for Loop"
   ]
  },
  {
   "cell_type": "code",
   "execution_count": null,
   "id": "bc4e0b7c-7173-4e50-8cca-857d31807c84",
   "metadata": {},
   "outputs": [],
   "source": []
  }
 ],
 "metadata": {
  "kernelspec": {
   "display_name": "Python [conda env:base] *",
   "language": "python",
   "name": "conda-base-py"
  },
  "language_info": {
   "codemirror_mode": {
    "name": "ipython",
    "version": 3
   },
   "file_extension": ".py",
   "mimetype": "text/x-python",
   "name": "python",
   "nbconvert_exporter": "python",
   "pygments_lexer": "ipython3",
   "version": "3.12.7"
  }
 },
 "nbformat": 4,
 "nbformat_minor": 5
}
