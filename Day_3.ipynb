{
 "cells": [
  {
   "cell_type": "markdown",
   "id": "01cea4de-b57b-4da1-b990-48b02c008b62",
   "metadata": {},
   "source": [
    "# Day 3 – Conditional Statements & Loops in Python\n",
    "Today I explored the fundamentals of control flow in Python — the building blocks that give our code intelligence.\n",
    "\n",
    "Topics Covered:\n",
    "-  if-else statements\n",
    "-  for loops\n",
    "-  range() function\n",
    "-  Nested conditions and loops"
   ]
  },
  {
   "cell_type": "markdown",
   "id": "b13bd3f6-f3ae-4dff-9e04-6a8480fba3dd",
   "metadata": {},
   "source": [
    "## 1. If-Else Statements\n",
    "python\n",
    "Copy\n",
    "Edit\n"
   ]
  },
  {
   "cell_type": "code",
   "execution_count": 1,
   "id": "ed6e76d5-8b33-472c-8b3d-c7a8de27b67c",
   "metadata": {},
   "outputs": [],
   "source": [
    "a = 12"
   ]
  },
  {
   "cell_type": "code",
   "execution_count": 2,
   "id": "7217f643-dc3c-4588-ac3a-88aca9d2a099",
   "metadata": {},
   "outputs": [
    {
     "data": {
      "text/plain": [
       "True"
      ]
     },
     "execution_count": 2,
     "metadata": {},
     "output_type": "execute_result"
    }
   ],
   "source": [
    "a > 11 "
   ]
  },
  {
   "cell_type": "code",
   "execution_count": 3,
   "id": "36650b6e-2633-411c-a0d4-228dcb7bf238",
   "metadata": {},
   "outputs": [
    {
     "name": "stdout",
     "output_type": "stream",
     "text": [
      "my name is Himanshu\n"
     ]
    }
   ],
   "source": [
    "if a>11:\n",
    "    print(\"my name is Himanshu\")"
   ]
  },
  {
   "cell_type": "code",
   "execution_count": 4,
   "id": "8d15454e-943b-4f4c-80f2-d732f8b16253",
   "metadata": {},
   "outputs": [],
   "source": [
    "if a>23:\n",
    "    pass"
   ]
  },
  {
   "cell_type": "code",
   "execution_count": 5,
   "id": "7db5a9ff-b9c4-497c-9200-a00b8503ffca",
   "metadata": {},
   "outputs": [],
   "source": [
    "if a>23:\n",
    "    print(\"my name is Himanshu\")"
   ]
  },
  {
   "cell_type": "code",
   "execution_count": 6,
   "id": "979efe89-2c24-472f-bdcb-36506534a5c2",
   "metadata": {},
   "outputs": [
    {
     "name": "stdout",
     "output_type": "stream",
     "text": [
      "10 is lesser than 12\n"
     ]
    }
   ],
   "source": [
    "if 10>12:\n",
    "    print(\"10 is bigger than 12\")\n",
    "else:\n",
    "    print(\"10 is lesser than 12\")"
   ]
  },
  {
   "cell_type": "code",
   "execution_count": 7,
   "id": "441a6e6e-b10c-455c-b754-95695f3a222e",
   "metadata": {},
   "outputs": [
    {
     "name": "stdout",
     "output_type": "stream",
     "text": [
      "10 is bigger than 12\n"
     ]
    }
   ],
   "source": [
    "if 10<12:\n",
    "    print(\"10 is bigger than 12\")\n",
    "else:\n",
    "    print(\"10 is lesser than 12\")"
   ]
  },
  {
   "cell_type": "code",
   "execution_count": 8,
   "id": "8eb11f8e-e175-43a2-be0d-fa54f4a09133",
   "metadata": {},
   "outputs": [
    {
     "name": "stdout",
     "output_type": "stream",
     "text": [
      "The number is positive.\n"
     ]
    }
   ],
   "source": [
    "# Example 1: Simple if-else\n",
    "num = 10\n",
    "if num > 0:\n",
    "    print(\"The number is positive.\")\n",
    "else:\n",
    "    print(\"The number is non-positive.\")"
   ]
  },
  {
   "cell_type": "markdown",
   "id": "7991ae59-d613-4140-9b4d-48ca2ba66f7c",
   "metadata": {},
   "source": [
    "###  Explanation:\n",
    "- `if` checks the condition.\n",
    "- If the condition is `True`, it runs the first block.\n",
    "- Otherwise, it runs the `else` block."
   ]
  },
  {
   "cell_type": "code",
   "execution_count": 9,
   "id": "fa54e948-eaa3-4220-948a-5f0a44054b64",
   "metadata": {},
   "outputs": [],
   "source": [
    "income = 600"
   ]
  },
  {
   "cell_type": "markdown",
   "id": "0c0e69ef-bdac-4a25-a260-569b754ba43e",
   "metadata": {},
   "source": [
    "## 2. Elif Statement"
   ]
  },
  {
   "cell_type": "code",
   "execution_count": 10,
   "id": "589a8f46-3fb1-46d8-be66-0b2068f9126c",
   "metadata": {},
   "outputs": [
    {
     "name": "stdout",
     "output_type": "stream",
     "text": [
      "i cannot afford the anything from this income like phone or car\n"
     ]
    }
   ],
   "source": [
    "if income < 50:\n",
    "    print(\"i will able to afford car on EMI\")\n",
    "elif income < 80:\n",
    "    print(\"i will able to buy a phone \")\n",
    "elif income < 700:\n",
    "    print(\"i cannot afford the anything from this income like phone or car\")\n",
    "else:\n",
    "    print(\"i am the not afford it\")"
   ]
  },
  {
   "cell_type": "code",
   "execution_count": 11,
   "id": "e6326267-8b92-4e67-8834-f0b21fa51d82",
   "metadata": {},
   "outputs": [
    {
     "name": "stdin",
     "output_type": "stream",
     "text": [
      " 40\n"
     ]
    },
    {
     "name": "stdout",
     "output_type": "stream",
     "text": [
      "i will able to afford car on EMI\n"
     ]
    }
   ],
   "source": [
    "income = int(input())\n",
    "if income < 50:\n",
    "    print(\"i will able to afford car on EMI\")\n",
    "elif income < 80:\n",
    "    print(\"i will able to buy a phone \")\n",
    "elif income < 700:\n",
    "    print(\"i cannot afford the anyt|hing from this income like phone or car\")\n",
    "else:\n",
    "    print(\"i am the not afford it\")"
   ]
  },
  {
   "cell_type": "code",
   "execution_count": 12,
   "id": "7a307edb-aa74-4772-a3e2-04d0a31ec7c4",
   "metadata": {},
   "outputs": [
    {
     "name": "stdout",
     "output_type": "stream",
     "text": [
      "Grade: A\n"
     ]
    }
   ],
   "source": [
    "# Example 2: Using elif\n",
    "marks = 85\n",
    "if marks >= 90:\n",
    "    print(\"Grade: A+\")\n",
    "elif marks >= 75:\n",
    "    print(\"Grade: A\")\n",
    "else:\n",
    "    print(\"Keep Improving!\")"
   ]
  },
  {
   "cell_type": "code",
   "execution_count": 18,
   "id": "dfd8079f-60ad-4902-abe0-8cdddeb09e7d",
   "metadata": {},
   "outputs": [
    {
     "name": "stdin",
     "output_type": "stream",
     "text": [
      " 22000\n"
     ]
    },
    {
     "name": "stdout",
     "output_type": "stream",
     "text": [
      "discount will be provided 4400.0\n"
     ]
    }
   ],
   "source": [
    "Total_price = int(input())\n",
    "if Total_price > 20000:\n",
    "    discount = Total_price* .20\n",
    "    print(\"discount will be provided\",discount)\n",
    "elif Total_price <= 7000:\n",
    "    discounted = Total_price* .05\n",
    "    print(\"discounted will be \", )"
   ]
  },
  {
   "cell_type": "code",
   "execution_count": 2,
   "id": "a6036ae5-aa3a-4846-a750-4608dcec1bbd",
   "metadata": {},
   "outputs": [
    {
     "name": "stdin",
     "output_type": "stream",
     "text": [
      " 6000\n"
     ]
    },
    {
     "name": "stdout",
     "output_type": "stream",
     "text": [
      "discounted will be \n"
     ]
    }
   ],
   "source": [
    "Total_price = int(input())\n",
    "if Total_price > 20000:\n",
    "    discount = Total_price* .20\n",
    "    print(\"discount will be provided\",discount)\n",
    "elif Total_price <= 7000:\n",
    "    discounted = Total_price* .05\n",
    "    print(\"discounted will be \", )"
   ]
  },
  {
   "cell_type": "code",
   "execution_count": 3,
   "id": "798ef39d-71c9-41db-b022-f28402dfc1db",
   "metadata": {},
   "outputs": [
    {
     "name": "stdin",
     "output_type": "stream",
     "text": [
      " Himanshu20\n"
     ]
    },
    {
     "name": "stdout",
     "output_type": "stream",
     "text": [
      "discount will be provided by 20%\n"
     ]
    }
   ],
   "source": [
    "coupn_code = input()\n",
    "if coupn_code == \"Himanshu20\":\n",
    "    print(\"discount will be provided by 20%\")\n",
    "    Discount_price = 3000 - 3000*.20\n",
    "else:\n",
    "    print(\"Invalid coupn_code\")"
   ]
  },
  {
   "cell_type": "code",
   "execution_count": 4,
   "id": "38ce44e9-c19e-4ac7-9e0f-14473c343362",
   "metadata": {},
   "outputs": [
    {
     "name": "stdin",
     "output_type": "stream",
     "text": [
      " Himanshu10\n"
     ]
    },
    {
     "name": "stdout",
     "output_type": "stream",
     "text": [
      "Invalid coupn_code\n"
     ]
    }
   ],
   "source": [
    "coupn_code = input()\n",
    "if coupn_code == \"Himanshu20\":\n",
    "    print(\"discount will be provided by 20%\")\n",
    "    Discount_price = 3000 - 3000*.20\n",
    "else:\n",
    "    print(\"Invalid coupn_code\")"
   ]
  },
  {
   "cell_type": "code",
   "execution_count": 14,
   "id": "2d381bd6-5dca-4bb6-b78f-4695800e1018",
   "metadata": {},
   "outputs": [
    {
     "name": "stdin",
     "output_type": "stream",
     "text": [
      " 2\n"
     ]
    },
    {
     "name": "stdout",
     "output_type": "stream",
     "text": [
      "it will make diffecult to pass in the exam \n"
     ]
    }
   ],
   "source": [
    "study_hour = int(input())\n",
    "if study_hour > 2:\n",
    "    print(\"student take 10 or 12 month to prepare for exam \")\n",
    "elif study_hour <=4 & study_hour >2:\n",
    "    print(\"student will take 6 or 7 month to pass in the exam\")\n",
    "elif study_hour > 10:\n",
    "    print(\"student will take 4 month to pass the exam \")\n",
    "else:\n",
    "    print(\"it will make diffecult to pass in the exam \")"
   ]
  },
  {
   "cell_type": "code",
   "execution_count": 15,
   "id": "1ba4b5a8-290d-4771-a523-fced6a10e134",
   "metadata": {},
   "outputs": [
    {
     "name": "stdin",
     "output_type": "stream",
     "text": [
      " 4\n"
     ]
    },
    {
     "name": "stdout",
     "output_type": "stream",
     "text": [
      "student will take 6 or 7 month to pass in the exam\n"
     ]
    }
   ],
   "source": [
    "study_hour = int(input())\n",
    "if study_hour < 2:\n",
    "    print(\"student take 10 or 12 month to prepare for exam \")\n",
    "elif study_hour <=4 & study_hour >2:\n",
    "    print(\"student will take 6 or 7 month to pass in the exam\")\n",
    "elif study_hour > 10:\n",
    "    print(\"student will take 4 month to pass the exam \")\n",
    "else:\n",
    "    print(\"it will make diffecult to pass in the exam \")"
   ]
  },
  {
   "cell_type": "code",
   "execution_count": 16,
   "id": "b6446e60-8e70-4503-ac8d-307b08e37121",
   "metadata": {},
   "outputs": [
    {
     "name": "stdin",
     "output_type": "stream",
     "text": [
      " 12\n"
     ]
    },
    {
     "name": "stdout",
     "output_type": "stream",
     "text": [
      "student will take 4 month to pass the exam \n"
     ]
    }
   ],
   "source": [
    "study_hour = int(input())\n",
    "if study_hour < 2:\n",
    "    print(\"student take 10 or 12 month to prepare for exam \")\n",
    "elif study_hour <=4 & study_hour >2:\n",
    "    print(\"student will take 6 or 7 month to pass in the exam\")\n",
    "elif study_hour >10:\n",
    "    print(\"student will take 4 month to pass the exam \")\n",
    "else:\n",
    "    print(\"it will make diffecult to pass in the exam \")"
   ]
  },
  {
   "cell_type": "code",
   "execution_count": 24,
   "id": "91c493c6-b2f0-446a-916d-9751786a1ddb",
   "metadata": {},
   "outputs": [
    {
     "name": "stdin",
     "output_type": "stream",
     "text": [
      "Please fill you name Himanshu\n",
      "Please write ur company name oneneuron\n",
      "Write ur job type Data_analyst\n"
     ]
    },
    {
     "name": "stdout",
     "output_type": "stream",
     "text": [
      "You are not the employe\n"
     ]
    }
   ],
   "source": [
    "name = input(\"Please fill you name\")\n",
    "Company_name = input(\"Please write ur company name\")\n",
    "job_type = input(\"Write ur job type\")\n",
    "if name == (\"Himanshu\",\"Dipu\",\"Ankit\",\"Sahil\"):\n",
    "    print(\"Your name is in company list . You can use our services\")\n",
    "    if company_name == \"ineuron\":\n",
    "        print(\"You enter the right comapny name \")\n",
    "    elif company_name == \"ineuron services\":\n",
    "        print(\"you can proceed\")\n",
    "    elif company_name == \"oneneuron\":\n",
    "        print(\"kindly please once again check the compamy name \")\n",
    "        if job_type == \"Data_analyst\":\n",
    "            print(\"Your salary will be 40k per month \")\n",
    "        elif job_type == \"Data_scientist\":\n",
    "            print(\"Your salary will be 65k per month \")\n",
    "        else:\n",
    "            print(\"Please mention the better job to find the salary pakage\")\n",
    "else:\n",
    "    print(\"You are not the employe\")"
   ]
  },
  {
   "cell_type": "code",
   "execution_count": 22,
   "id": "4558f2ab-c701-440b-b005-b68635683c54",
   "metadata": {},
   "outputs": [
    {
     "name": "stdin",
     "output_type": "stream",
     "text": [
      " Ankit\n"
     ]
    },
    {
     "data": {
      "text/plain": [
       "(False, 'Dipu', 'Ankit', 'Sahil')"
      ]
     },
     "execution_count": 22,
     "metadata": {},
     "output_type": "execute_result"
    }
   ],
   "source": [
    "name = input()\n",
    "name == \"Himanshu\",\"Dipu\",\"Ankit\",\"Sahil\""
   ]
  },
  {
   "cell_type": "markdown",
   "id": "9545b2af-98e0-4dfd-9528-9bfefb0c1f98",
   "metadata": {},
   "source": [
    "## 3. For Loop with List"
   ]
  },
  {
   "cell_type": "code",
   "execution_count": null,
   "id": "0cc1ffc2-ccf1-4f21-8f81-33a8429a1c0d",
   "metadata": {},
   "outputs": [],
   "source": [
    "# Example 3: Looping through a list\n",
    "fruits = [\"apple\", \"banana\", \"cherry\"]\n",
    "for fruit in fruits:\n",
    "    print(f\"I like {fruit}\")"
   ]
  },
  {
   "cell_type": "code",
   "execution_count": 25,
   "id": "845a5147-7a78-4c03-9a44-577be8a85463",
   "metadata": {},
   "outputs": [
    {
     "name": "stdout",
     "output_type": "stream",
     "text": [
      "1\n",
      "2\n",
      "3\n",
      "4\n",
      "5\n",
      "6\n",
      "7\n",
      "8\n",
      "9\n"
     ]
    }
   ],
   "source": [
    "l = [1,2,3,4,5,6,7,8,9]\n",
    "for i in l:\n",
    "    print(i)"
   ]
  },
  {
   "cell_type": "code",
   "execution_count": 26,
   "id": "bf00406c-c039-4679-86b9-65d65e16e24b",
   "metadata": {},
   "outputs": [
    {
     "name": "stdout",
     "output_type": "stream",
     "text": [
      "H\n",
      "i\n",
      "m\n",
      "a\n",
      "n\n",
      "s\n",
      "h\n",
      "u\n"
     ]
    }
   ],
   "source": [
    "for i in \"Himanshu\":\n",
    "    print(i)"
   ]
  },
  {
   "cell_type": "code",
   "execution_count": 27,
   "id": "bb97485d-1eee-4dba-a47c-6509c364ec0f",
   "metadata": {},
   "outputs": [
    {
     "name": "stdout",
     "output_type": "stream",
     "text": [
      "<class 'int'>\n",
      "<class 'int'>\n",
      "<class 'float'>\n",
      "<class 'complex'>\n",
      "<class 'str'>\n",
      "<class 'bool'>\n"
     ]
    }
   ],
   "source": [
    "l1 = [1,34,3.4,3+21j,\"khokhar\",False]\n",
    "for i in l1:\n",
    "    print(type(i))"
   ]
  },
  {
   "cell_type": "code",
   "execution_count": 29,
   "id": "a28342a1-8e7e-4b1e-874a-644d7a65577c",
   "metadata": {},
   "outputs": [
    {
     "name": "stdout",
     "output_type": "stream",
     "text": [
      "3\n",
      "4\n",
      "5\n"
     ]
    }
   ],
   "source": [
    "l = [1,2,3]\n",
    "l2 = []\n",
    "for i in l:\n",
    "    print(i+2)\n",
    "    l2.append(l)"
   ]
  },
  {
   "cell_type": "code",
   "execution_count": 30,
   "id": "eff638b3-4150-4603-8c03-a55e44377e31",
   "metadata": {},
   "outputs": [
    {
     "data": {
      "text/plain": [
       "[[1, 2, 3], [1, 2, 3], [1, 2, 3]]"
      ]
     },
     "execution_count": 30,
     "metadata": {},
     "output_type": "execute_result"
    }
   ],
   "source": [
    "l2"
   ]
  },
  {
   "cell_type": "code",
   "execution_count": 31,
   "id": "38135c5e-b986-4734-bcde-fe45264cbfd6",
   "metadata": {},
   "outputs": [
    {
     "data": {
      "text/plain": [
       "[1, 34, 3.4, (3+21j), 'khokhar', False]"
      ]
     },
     "execution_count": 31,
     "metadata": {},
     "output_type": "execute_result"
    }
   ],
   "source": [
    "l1"
   ]
  },
  {
   "cell_type": "code",
   "execution_count": 34,
   "id": "fe2a5260-bd32-4a55-ba4e-c47d03bf8bd5",
   "metadata": {},
   "outputs": [
    {
     "name": "stdout",
     "output_type": "stream",
     "text": [
      "1\n",
      "34\n"
     ]
    }
   ],
   "source": [
    "for i in l1:\n",
    "    if type(i) == int:\n",
    "        print(i)"
   ]
  },
  {
   "cell_type": "code",
   "execution_count": 35,
   "id": "38195073-911a-488e-8b9c-33c162c58c6e",
   "metadata": {},
   "outputs": [
    {
     "data": {
      "text/plain": [
       "[1, 34, 3.4, (3+21j), 'khokhar', False]"
      ]
     },
     "execution_count": 35,
     "metadata": {},
     "output_type": "execute_result"
    }
   ],
   "source": [
    "l1"
   ]
  },
  {
   "cell_type": "code",
   "execution_count": 38,
   "id": "18543cee-8392-45e9-a7f7-577c4b358b33",
   "metadata": {},
   "outputs": [],
   "source": [
    " l1 = [2,12,49,65,[89,56,8.9,5,6j,\"khokhar\"]]"
   ]
  },
  {
   "cell_type": "code",
   "execution_count": 39,
   "id": "5fd553f0-2646-49c2-95b3-52ce649cc343",
   "metadata": {},
   "outputs": [
    {
     "data": {
      "text/plain": [
       "[2, 12, 49, 65, [89, 56, 8.9, 5, 6j, 'khokhar']]"
      ]
     },
     "execution_count": 39,
     "metadata": {},
     "output_type": "execute_result"
    }
   ],
   "source": [
    "l1 "
   ]
  },
  {
   "cell_type": "code",
   "execution_count": 44,
   "id": "fc5a357c-0656-4d88-a469-1e6a0cd6d852",
   "metadata": {},
   "outputs": [
    {
     "name": "stdout",
     "output_type": "stream",
     "text": [
      "2\n",
      "12\n",
      "49\n",
      "65\n",
      "89\n",
      "56\n",
      "5\n"
     ]
    }
   ],
   "source": [
    "for i in l1:\n",
    "    if type(i) == int:\n",
    "        print(i)\n",
    "    elif type(i) == list:\n",
    "        for j in i :\n",
    "            if type(j) == int:\n",
    "                print(j)"
   ]
  },
  {
   "cell_type": "markdown",
   "id": "34f756bd-13c9-4c48-996d-b65bf4edfd58",
   "metadata": {},
   "source": [
    "## 4. Using range() Function"
   ]
  },
  {
   "cell_type": "code",
   "execution_count": 45,
   "id": "1683f0a1-72e8-470d-ac76-d5f306de18c4",
   "metadata": {},
   "outputs": [
    {
     "name": "stdout",
     "output_type": "stream",
     "text": [
      "Step 0\n",
      "Step 1\n",
      "Step 2\n",
      "Step 3\n",
      "Step 4\n"
     ]
    }
   ],
   "source": [
    "# Example 4: Looping with range\n",
    "for i in range(5):\n",
    "    print(f\"Step {i}\")"
   ]
  },
  {
   "cell_type": "markdown",
   "id": "ba257f7b-48ca-46a6-b7ee-2907a068ffa5",
   "metadata": {},
   "source": [
    "## 5. Nested If and Loops"
   ]
  },
  {
   "cell_type": "code",
   "execution_count": 46,
   "id": "bd7d934d-b375-45ce-bb7e-9741866d56ca",
   "metadata": {},
   "outputs": [
    {
     "name": "stdout",
     "output_type": "stream",
     "text": [
      "1 is odd\n",
      "2 is even\n",
      "3 is odd\n",
      "4 is even\n",
      "5 is odd\n"
     ]
    }
   ],
   "source": [
    "# Example 5: Nested structure\n",
    "for i in range(1, 6):\n",
    "    if i % 2 == 0:\n",
    "        print(f\"{i} is even\")\n",
    "    else:\n",
    "        print(f\"{i} is odd\")"
   ]
  },
  {
   "cell_type": "markdown",
   "id": "8ae8b957-bfa8-4d06-b143-9dfa09f90499",
   "metadata": {},
   "source": [
    "#### Takeaways"
   ]
  },
  {
   "cell_type": "markdown",
   "id": "ca0515c9-d68a-4cb4-93e5-29962e10e5f6",
   "metadata": {},
   "source": [
    "- if-else helps in decision-making.\n",
    "- `for` loops are perfect for iteration.\n",
    "- `range()` simplifies number sequences.\n",
    "- Use indentation carefully — Python is sensitive to it!"
   ]
  },
  {
   "cell_type": "markdown",
   "id": "8850f2eb-61a6-4557-b540-79a0d80267c6",
   "metadata": {},
   "source": [
    "Tomorrow I’ll be diving into:\n",
    "- While loops\n",
    "- Break and continue statements\n",
    "- Basic input/output with users"
   ]
  },
  {
   "cell_type": "markdown",
   "id": "88c9c6b9-d2d5-46b1-ad79-b4203b228142",
   "metadata": {},
   "source": [
    "### "
   ]
  }
 ],
 "metadata": {
  "kernelspec": {
   "display_name": "Python [conda env:venv-2]",
   "language": "python",
   "name": "conda-env-venv-2-py"
  },
  "language_info": {
   "codemirror_mode": {
    "name": "ipython",
    "version": 3
   },
   "file_extension": ".py",
   "mimetype": "text/x-python",
   "name": "python",
   "nbconvert_exporter": "python",
   "pygments_lexer": "ipython3",
   "version": "3.8.0"
  }
 },
 "nbformat": 4,
 "nbformat_minor": 5
}
